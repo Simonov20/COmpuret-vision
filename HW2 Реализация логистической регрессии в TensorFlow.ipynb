{
 "cells": [
  {
   "cell_type": "markdown",
   "metadata": {},
   "source": [
    "# Реализация логистической регрессии в TensorFlow"
   ]
  },
  {
   "cell_type": "code",
   "execution_count": 21,
   "metadata": {},
   "outputs": [],
   "source": [
    "import numpy as np\n",
    "import tensorflow as tf"
   ]
  },
  {
   "cell_type": "code",
   "execution_count": 22,
   "metadata": {},
   "outputs": [],
   "source": [
    "%matplotlib inline\n",
    "from matplotlib import pyplot as plt"
   ]
  },
  {
   "cell_type": "markdown",
   "metadata": {},
   "source": [
    "## Генерируем данные для задачи регрессии"
   ]
  },
  {
   "cell_type": "code",
   "execution_count": 23,
   "metadata": {},
   "outputs": [],
   "source": [
    "NUM_FEATURES = 2\n",
    "NUM_SAMPLES = 1000"
   ]
  },
  {
   "cell_type": "code",
   "execution_count": 24,
   "metadata": {},
   "outputs": [
    {
     "data": {
      "image/png": "[encoded data removed]",
      "text/plain": [
       "<Figure size 432x288 with 1 Axes>"
      ]
     },
     "metadata": {
      "needs_background": "light"
     },
     "output_type": "display_data"
    }
   ],
   "source": [
    "from sklearn.datasets import make_classification\n",
    "\n",
    "X, y = make_classification(n_samples = NUM_SAMPLES,\n",
    "                           n_features = NUM_FEATURES,\n",
    "                           n_informative = NUM_FEATURES,\n",
    "                           n_redundant = 0,\n",
    "                           n_classes = 2,\n",
    "                           n_clusters_per_class = 1,\n",
    "                           class_sep = 0.75,\n",
    "                           random_state = 54312)\n",
    "\n",
    "y = y.reshape(-1, 1)\n",
    "\n",
    "ones = np.where(y == 1)   # индексы объектов класса '1'\n",
    "zeros = np.where(y == 0)  # индексы объектов класса '0'\n",
    "\n",
    "plt.xlabel('x')\n",
    "plt.ylabel('y')\n",
    "plt.plot(X[ones, 0], X[ones, 1], 'ob',\n",
    "         X[zeros, 0], X[zeros, 1], 'or');"
   ]
  },
  {
   "cell_type": "markdown",
   "metadata": {},
   "source": [
    "## Вспомогательная функция для создания операций"
   ]
  },
  {
   "cell_type": "code",
   "execution_count": 25,
   "metadata": {},
   "outputs": [],
   "source": [
    "import string\n",
    "\n",
    "def py_func_with_grad(func, inp, Tout, grad, name = None, stateful = False, graph = None):\n",
    "    \n",
    "    name_prefix = ''.join(np.random.choice(list(string.ascii_letters), size = 10))\n",
    "    \n",
    "    name = '%s_%s' % (name_prefix, name or '')\n",
    "    grad_func_name = '%s_grad' % name\n",
    "\n",
    "    tf.RegisterGradient(grad_func_name)(grad)\n",
    "\n",
    "    g = graph or tf.get_default_graph()\n",
    "    with g.gradient_override_map({'PyFunc': grad_func_name, \n",
    "                                  'PyFuncStateless': grad_func_name}):\n",
    "        with tf.name_scope(name, 'PyFuncOp', inp):\n",
    "            return tf.py_func(func, inp, Tout, stateful = stateful, name = name)"
   ]
  },
  {
   "cell_type": "markdown",
   "metadata": {},
   "source": [
    "## Реализация линейной опреаций"
   ]
  },
  {
   "cell_type": "code",
   "execution_count": 73,
   "metadata": {},
   "outputs": [],
   "source": [
    "def linear_op_forward(X, W, B):\n",
    "    ''' Реализация линейной операции '''\n",
    "    return np.dot(X, W.T)+B  # аргументы являются numpy-массивами, добавляем смещения \n",
    "\n",
    "def linear_op_backward(op, grads):\n",
    "    ''' Реализация вычисления градиента линейной операции '''\n",
    "    X = op.inputs[0]  # тензор входных данных\n",
    "    W = op.inputs[1]  # тензор параметров модели\n",
    "    B = op.inputs[2]  # вектор параметров модели - смещения bias\n",
    "    dX = tf.multiply(grads, W)\n",
    "    dW = tf.reduce_sum(tf.multiply(X, grads),\n",
    "                       axis = 0,\n",
    "                       keep_dims = True)\n",
    "    dB = tf.reduce_sum(tf.multiply(1., grads),\n",
    "                      axis = 0,\n",
    "                      keep_dims = True)\n",
    "    \n",
    "    return dX, dW, dB\n",
    "\n",
    "def sigmoid_op_forward(X):\n",
    "    # TODO: реализовать операцию sigmoid\n",
    "    return 1/(1+np.exp(-X))\n",
    "\n",
    "def sigmoid_op_backward(op, grads):\n",
    "    # TODO: реализовать вычисление градиента для sigmoid\n",
    "    sigmoid = op.outputs[0]\n",
    "    return grads*sigmoid * (1 - sigmoid)"
   ]
  },
  {
   "cell_type": "markdown",
   "metadata": {},
   "source": [
    "## Создание графа вычислений и обучение модели"
   ]
  },
  {
   "cell_type": "code",
   "execution_count": 81,
   "metadata": {
    "scrolled": false
   },
   "outputs": [
    {
     "name": "stdout",
     "output_type": "stream",
     "text": [
      "[000] loss=0.771 weights=[[0.4176947  0.22987393]] bias=[[1.2882622]]\n",
      "[010] loss=0.725 weights=[[ 0.22082058 -0.23747624]] bias=[[1.0271225]]\n",
      "[020] loss=0.626 weights=[[-0.10723789 -0.94090843]] bias=[[0.61498284]]\n",
      "[030] loss=0.671 weights=[[-0.19665144 -1.4235252 ]] bias=[[0.32993013]]\n",
      "[040] loss=0.560 weights=[[-0.17293814 -1.7815847 ]] bias=[[0.09991405]]\n",
      "[050] loss=0.627 weights=[[-0.08211175 -2.0749497 ]] bias=[[-0.05749051]]\n",
      "[060] loss=0.566 weights=[[-0.00392093 -2.3176053 ]] bias=[[-0.18667299]]\n",
      "[070] loss=0.652 weights=[[ 0.09745328 -2.5295107 ]] bias=[[-0.3039483]]\n",
      "[080] loss=0.579 weights=[[ 0.18156442 -2.7055562 ]] bias=[[-0.42438087]]\n",
      "[090] loss=0.554 weights=[[ 0.25640982 -2.8734107 ]] bias=[[-0.511255]]\n",
      "[100] loss=0.544 weights=[[ 0.32666105 -3.0237358 ]] bias=[[-0.6135874]]\n",
      "[110] loss=0.565 weights=[[ 0.38637576 -3.1620378 ]] bias=[[-0.70031273]]\n",
      "[120] loss=0.610 weights=[[ 0.47189716 -3.2794933 ]] bias=[[-0.78765947]]\n",
      "[130] loss=0.506 weights=[[ 0.53889596 -3.3983853 ]] bias=[[-0.84047526]]\n",
      "[140] loss=0.578 weights=[[ 0.58034056 -3.5083046 ]] bias=[[-0.92655534]]\n",
      "[150] loss=0.541 weights=[[ 0.6424253 -3.6098478]] bias=[[-0.98440695]]\n",
      "[160] loss=0.623 weights=[[ 0.6809291 -3.7084577]] bias=[[-1.0678319]]\n",
      "[170] loss=0.530 weights=[[ 0.7389461 -3.8054187]] bias=[[-1.1079273]]\n",
      "[180] loss=0.556 weights=[[ 0.776424  -3.8901658]] bias=[[-1.1753851]]\n",
      "[190] loss=0.493 weights=[[ 0.8216611 -3.9767544]] bias=[[-1.2285118]]\n",
      "[200] loss=0.552 weights=[[ 0.8559312 -4.057752 ]] bias=[[-1.2736766]]\n",
      "[210] loss=0.542 weights=[[ 0.8846421 -4.140798 ]] bias=[[-1.3155288]]\n",
      "[220] loss=0.556 weights=[[ 0.93468505 -4.205659  ]] bias=[[-1.3681704]]\n",
      "[230] loss=0.541 weights=[[ 0.96291614 -4.277822  ]] bias=[[-1.419892]]\n",
      "[240] loss=0.523 weights=[[ 1.0012546 -4.3501935]] bias=[[-1.4487394]]\n",
      "[250] loss=0.501 weights=[[ 1.026078  -4.4245887]] bias=[[-1.4762837]]\n",
      "[260] loss=0.557 weights=[[ 1.0531969 -4.4812484]] bias=[[-1.533569]]\n",
      "[270] loss=0.570 weights=[[ 1.079571 -4.548671]] bias=[[-1.5660955]]\n",
      "[280] loss=0.568 weights=[[ 1.1056306 -4.606861 ]] bias=[[-1.6005391]]\n",
      "[290] loss=0.521 weights=[[ 1.1328644 -4.669734 ]] bias=[[-1.6242847]]\n",
      "[300] loss=0.554 weights=[[ 1.1507615 -4.72742  ]] bias=[[-1.6663827]]\n",
      "[310] loss=0.581 weights=[[ 1.185834 -4.776178]] bias=[[-1.7072273]]\n",
      "[320] loss=0.546 weights=[[ 1.189845  -4.8368106]] bias=[[-1.7371234]]\n",
      "[330] loss=0.556 weights=[[ 1.2044048 -4.8925843]] bias=[[-1.7698153]]\n",
      "[340] loss=0.594 weights=[[ 1.2336428 -4.9422445]] bias=[[-1.796187]]\n",
      "[350] loss=0.516 weights=[[ 1.2631253 -4.9935584]] bias=[[-1.8166353]]\n",
      "[360] loss=0.527 weights=[[ 1.2813792 -5.045767 ]] bias=[[-1.8387614]]\n",
      "[370] loss=0.518 weights=[[ 1.2928942 -5.0974603]] bias=[[-1.8716954]]\n",
      "[380] loss=0.504 weights=[[ 1.3169351 -5.1462846]] bias=[[-1.893762]]\n",
      "[390] loss=0.565 weights=[[ 1.3254383 -5.195858 ]] bias=[[-1.910197]]\n"
     ]
    }
   ],
   "source": [
    "BATCH_SIZE = NUM_SAMPLES // 20\n",
    "\n",
    "weights = None  # в этой переменной мы сохраним результат обучения модели\n",
    "learning_curve = []  # значения ошибки на каждой итерации обучения\n",
    "\n",
    "with tf.Session(graph = tf.Graph()) as sess:  # инициализируем сессию вычислений\n",
    "    \n",
    "    # создаем placeholdr'ы, через них мы будем\n",
    "    # передавать внешние данные в граф вычислений\n",
    "    plh_X = tf.placeholder(dtype = tf.float32, shape = [None, NUM_FEATURES])\n",
    "    plh_labels = tf.placeholder(dtype = tf.float32, shape = [None, 1])\n",
    "\n",
    "    # создаем переменную для хранения весов модели\n",
    "    # эти веса будут изменяться в процессе обучения\n",
    "    var_W = tf.Variable(tf.random_uniform(shape = [1, NUM_FEATURES],\n",
    "                                          dtype = tf.float32,\n",
    "                                          seed = 54321))\n",
    "    var_B = tf.Variable(tf.random_normal(shape = [1, 1],\n",
    "                                          dtype = tf.float32,\n",
    "                                          seed = 54321))\n",
    "    \n",
    "    # создаем переменную для результата предсказания модели\n",
    "    var_Pred = py_func_with_grad(linear_op_forward,         # функция предсказания модели \n",
    "                                 [plh_X, var_W, var_B],            # аргументы функции\n",
    "                                 [tf.float32],              # тип выходных значений\n",
    "                                 name = 'linear_op',        # имя операции \n",
    "                                 grad = linear_op_backward, # функция для вычисления градиента\n",
    "                                 graph = sess.graph)        # объект графа вчислений\n",
    "    \n",
    "    # создаем переменную для результата операции sigmoid\n",
    "    var_Sigmoid = py_func_with_grad(sigmoid_op_forward,\n",
    "                                    [var_Pred],\n",
    "                                    [tf.float32],\n",
    "                                    name = 'sigmoid_op',\n",
    "                                    grad = sigmoid_op_backward,\n",
    "                                    graph = sess.graph)\n",
    "    \n",
    "    # кроссэнтропийная функция потерь для бмнарной классификации\n",
    "    cost = tf.losses.sigmoid_cross_entropy(plh_labels, var_Sigmoid)\n",
    "    \n",
    "    # инициализируем оптимизатор и указываем скорость обучения\n",
    "    optimizer = tf.train.GradientDescentOptimizer(learning_rate = 0.9).minimize(cost)\n",
    "\n",
    "    # инициализируем placeholder'ы и переменные\n",
    "    sess.run(tf.global_variables_initializer())\n",
    "    \n",
    "    indices = np.arange(len(X))  # массив индексов объектов\n",
    "    \n",
    "    # выполняем итерации по 10-ти эпохам\n",
    "    for epoch in range(20):\n",
    "        \n",
    "        # вначале каждой эпохи перемешиваем индексы\n",
    "        np.random.shuffle(indices)\n",
    "        \n",
    "        # внутри каждой эпохи данные разбиваются на батчи\n",
    "        for batch in range(len(X) // BATCH_SIZE):\n",
    "            \n",
    "            # выбираем индексы очередного батча\n",
    "            batch_indices = indices[batch * BATCH_SIZE:(batch + 1) * BATCH_SIZE]\n",
    "\n",
    "            # выполняем шаг обучения: вычисляем ошибку и обновляем веса\n",
    "            loss, _ = sess.run([cost, optimizer],  # указываем, какие операции необходимо выполнить\n",
    "                               feed_dict = {plh_X: X[batch_indices],  # передаем входные данные для вычисления\n",
    "                                            plh_labels: y[batch_indices]})\n",
    "        \n",
    "            # сохраняем занчения ошибки для построения кривой обучения\n",
    "            learning_curve.append(loss)\n",
    "            \n",
    "            # выводим текущее значение ошибки для каждого 10го шага\n",
    "            steps = len(learning_curve) - 1\n",
    "            if steps % 10 == 0:\n",
    "                print('[%03d] loss=%.3f weights=%s bias=%s' % (steps, loss, var_W.eval(), var_B.eval()))\n",
    "    \n",
    "    # сохраняем обученные веса и смещения\n",
    "    weights = var_W.eval()\n",
    "    bias = var_B.eval()"
   ]
  },
  {
   "cell_type": "markdown",
   "metadata": {},
   "source": [
    "## Визуализируем кривую обучения"
   ]
  },
  {
   "cell_type": "code",
   "execution_count": 82,
   "metadata": {},
   "outputs": [
    {
     "data": {
      "image/png": "[encoded data removed]",
      "text/plain": [
       "<Figure size 432x288 with 1 Axes>"
      ]
     },
     "metadata": {
      "needs_background": "light"
     },
     "output_type": "display_data"
    }
   ],
   "source": [
    "plt.xlabel('step')\n",
    "plt.ylabel('loss')\n",
    "plt.title('Learning curve')\n",
    "plt.plot(learning_curve);"
   ]
  },
  {
   "cell_type": "markdown",
   "metadata": {},
   "source": [
    "## Визуализируем разделяющую гиперплоскость"
   ]
  },
  {
   "cell_type": "code",
   "execution_count": 83,
   "metadata": {},
   "outputs": [
    {
     "data": {
      "image/png": "[encoded data removed]",
      "text/plain": [
       "<Figure size 432x288 with 1 Axes>"
      ]
     },
     "metadata": {
      "needs_background": "light"
     },
     "output_type": "display_data"
    }
   ],
   "source": [
    "#добавляем смещения\n",
    "y_pred = - X[:, 0] * weights[0, 0] / weights[0, 1]-bias[0]/ weights[0, 1]\n",
    "\n",
    "order = np.argsort(X[:, 0])\n",
    "\n",
    "plt.xlabel('x')\n",
    "plt.ylabel('y')\n",
    "plt.plot(X[ones, 0], X[ones, 1], 'ob',\n",
    "         X[zeros, 0], X[zeros, 1], 'or',\n",
    "         X[order, 0], y_pred[order], '-g');"
   ]
  },
  {
   "cell_type": "code",
   "execution_count": null,
   "metadata": {},
   "outputs": [],
   "source": []
  }
 ],
 "metadata": {
  "kernelspec": {
   "display_name": "Python 3",
   "language": "python",
   "name": "python3"
  },
  "language_info": {
   "codemirror_mode": {
    "name": "ipython",
    "version": 3
   },
   "file_extension": ".py",
   "mimetype": "text/x-python",
   "name": "python",
   "nbconvert_exporter": "python",
   "pygments_lexer": "ipython3",
   "version": "3.6.8"
  }
 },
 "nbformat": 4,
 "nbformat_minor": 2
}
